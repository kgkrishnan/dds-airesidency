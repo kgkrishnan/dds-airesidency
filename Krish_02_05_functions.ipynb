{
  "cells": [
    {
      "cell_type": "markdown",
      "metadata": {
        "id": "view-in-github",
        "colab_type": "text"
      },
      "source": [
        "<a href=\"https://colab.research.google.com/github/kgkrishnan/dds-airesidency/blob/main/Krish_02_05_functions.ipynb\" target=\"_parent\"><img src=\"https://colab.research.google.com/assets/colab-badge.svg\" alt=\"Open In Colab\"/></a>"
      ]
    },
    {
      "cell_type": "markdown",
      "id": "ba586f0c",
      "metadata": {
        "id": "ba586f0c"
      },
      "source": [
        "## Functions"
      ]
    },
    {
      "cell_type": "code",
      "execution_count": null,
      "id": "dd1cfd33",
      "metadata": {
        "id": "dd1cfd33",
        "outputId": "67c5e1f9-d4ec-44a1-c351-4aa78635a63e"
      },
      "outputs": [
        {
          "name": "stdout",
          "output_type": "stream",
          "text": [
            "Hello, World!\n"
          ]
        }
      ],
      "source": [
        "print('Hello, World!')"
      ]
    },
    {
      "cell_type": "code",
      "execution_count": null,
      "id": "ad0049c8",
      "metadata": {
        "id": "ad0049c8",
        "outputId": "268bbc6c-1028-43a0-8fe6-3c9de5652220"
      },
      "outputs": [
        {
          "data": {
            "text/plain": [
              "12"
            ]
          },
          "execution_count": 2,
          "metadata": {},
          "output_type": "execute_result"
        }
      ],
      "source": [
        "def multiplyByThree(val):\n",
        "    return 3 * val\n",
        "\n",
        "multiplyByThree(4)"
      ]
    },
    {
      "cell_type": "code",
      "execution_count": null,
      "id": "5b73fcaa",
      "metadata": {
        "id": "5b73fcaa"
      },
      "outputs": [],
      "source": [
        "def multiply(val1, val2):\n",
        "    return val1 * val2"
      ]
    },
    {
      "cell_type": "code",
      "execution_count": null,
      "id": "9b62e051",
      "metadata": {
        "id": "9b62e051",
        "outputId": "e5d0989f-b37d-4f9a-c826-807ab67c9055"
      },
      "outputs": [
        {
          "data": {
            "text/plain": [
              "12"
            ]
          },
          "execution_count": 4,
          "metadata": {},
          "output_type": "execute_result"
        }
      ],
      "source": [
        "multiply(3, 4)"
      ]
    },
    {
      "cell_type": "code",
      "execution_count": null,
      "id": "2cec9e99",
      "metadata": {
        "id": "2cec9e99",
        "outputId": "a2dcc903-171d-494d-bdfd-38c660ed6603"
      },
      "outputs": [
        {
          "name": "stdout",
          "output_type": "stream",
          "text": [
            "[1, 2, 3, 4]\n"
          ]
        }
      ],
      "source": [
        "a = [1,2,3]\n",
        "\n",
        "def appendFour(myList):\n",
        "    myList.append(4)\n",
        "\n",
        "appendFour(a)\n",
        "print(a)"
      ]
    },
    {
      "cell_type": "code",
      "execution_count": null,
      "id": "beb2bc22",
      "metadata": {
        "id": "beb2bc22",
        "outputId": "2c225750-a0dd-46cd-e51f-cfd5ba019de8"
      },
      "outputs": [
        {
          "name": "stdout",
          "output_type": "stream",
          "text": [
            "Hello, World!\n",
            "None\n"
          ]
        }
      ],
      "source": [
        "print(print('Hello, World!'))"
      ]
    },
    {
      "cell_type": "code",
      "execution_count": null,
      "id": "ebcd84f9",
      "metadata": {
        "id": "ebcd84f9",
        "outputId": "bedc9d58-d265-4796-ae3b-687a9472d573"
      },
      "outputs": [
        {
          "data": {
            "text/plain": [
              "NoneType"
            ]
          },
          "execution_count": 8,
          "metadata": {},
          "output_type": "execute_result"
        }
      ],
      "source": [
        "type(None)"
      ]
    },
    {
      "cell_type": "code",
      "execution_count": null,
      "id": "856a2d61",
      "metadata": {
        "id": "856a2d61",
        "outputId": "48b0f9b9-58a3-4732-ebba-56e4b923e48a"
      },
      "outputs": [
        {
          "ename": "TypeError",
          "evalue": "unsupported operand type(s) for +: 'NoneType' and 'int'",
          "output_type": "error",
          "traceback": [
            "\u001b[0;31m---------------------------------------------------------------------------\u001b[0m",
            "\u001b[0;31mTypeError\u001b[0m                                 Traceback (most recent call last)",
            "Input \u001b[0;32mIn [9]\u001b[0m, in \u001b[0;36m<module>\u001b[0;34m\u001b[0m\n\u001b[0;32m----> 1\u001b[0m \u001b[38;5;28;43;01mNone\u001b[39;49;00m\u001b[43m \u001b[49m\u001b[38;5;241;43m+\u001b[39;49m\u001b[43m \u001b[49m\u001b[38;5;241;43m1\u001b[39;49m\n",
            "\u001b[0;31mTypeError\u001b[0m: unsupported operand type(s) for +: 'NoneType' and 'int'"
          ]
        }
      ],
      "source": [
        "None + 1"
      ]
    },
    {
      "cell_type": "code",
      "execution_count": null,
      "id": "8a011328",
      "metadata": {
        "id": "8a011328"
      },
      "outputs": [],
      "source": []
    }
  ],
  "metadata": {
    "kernelspec": {
      "display_name": "Python 3 (ipykernel)",
      "language": "python",
      "name": "python3"
    },
    "language_info": {
      "codemirror_mode": {
        "name": "ipython",
        "version": 3
      },
      "file_extension": ".py",
      "mimetype": "text/x-python",
      "name": "python",
      "nbconvert_exporter": "python",
      "pygments_lexer": "ipython3",
      "version": "3.10.2"
    },
    "colab": {
      "provenance": [],
      "name": "Krish-02_05_functions.ipynb",
      "include_colab_link": true
    }
  },
  "nbformat": 4,
  "nbformat_minor": 5
}